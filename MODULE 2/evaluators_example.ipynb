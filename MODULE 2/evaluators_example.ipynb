{
 "cells": [
  {
   "cell_type": "code",
   "id": "initial_id",
   "metadata": {
    "collapsed": true,
    "ExecuteTime": {
     "end_time": "2025-10-04T14:09:04.746955Z",
     "start_time": "2025-10-04T14:09:01.982784Z"
    }
   },
   "source": [
    "from langchain_openai import ChatOpenAI\n",
    "from dotenv import load_dotenv\n",
    "\n",
    "load_dotenv(override=True)\n",
    "judge = ChatOpenAI(model=\"gpt-4o-mini\", temperature=0)\n",
    "\n",
    "def coherence_evaluator(reference, response):\n",
    "    \"\"\"Checks how coherent the response is compared to the reference.\"\"\"\n",
    "    prompt = f\"\"\"\n",
    "    You are a judge. Compare the following response with the reference.\n",
    "    Give a score based on coherence (clarity, logic, and flow).\n",
    "\n",
    "    Reference: {reference}\n",
    "    Response: {response}\n",
    "\n",
    "    Score (1 to 5):\n",
    "    1 = Excellent\n",
    "    5 = Very incoherent\n",
    "\n",
    "    Just return the number.\n",
    "    \"\"\"\n",
    "    result = judge.invoke(prompt)\n",
    "    return int(result.content.strip())\n",
    "\n",
    "\n",
    "examples = [\n",
    "    {\n",
    "        \"reference\": \"The Earth revolves around the Sun once every 365 days.\",\n",
    "        \"response\": \"The Earth takes one year to go around the Sun.\",\n",
    "    },\n",
    "    {\n",
    "        \"reference\": \"Photosynthesis helps plants make food using sunlight.\",\n",
    "        \"response\": \"Plants eat sunlight like food.\",\n",
    "    },\n",
    "    {\n",
    "        \"reference\": \"Artificial intelligence uses data and algorithms to mimic human thinking.\",\n",
    "        \"response\": \"AI is kind of like magic brains for computers.\",\n",
    "    }\n",
    "]\n",
    "\n",
    "# Run the evaluator\n",
    "for i, ex in enumerate(examples, 1):\n",
    "    score = coherence_evaluator(ex[\"reference\"], ex[\"response\"])\n",
    "    print(f\"Example {i} → Coherence Score: {score}\")\n"
   ],
   "outputs": [
    {
     "name": "stdout",
     "output_type": "stream",
     "text": [
      "Example 1 → Coherence Score: 1\n",
      "Example 2 → Coherence Score: 4\n",
      "Example 3 → Coherence Score: 4\n"
     ]
    }
   ],
   "execution_count": 8
  }
 ],
 "metadata": {
  "kernelspec": {
   "display_name": "Python (ls-academy)",
   "language": "python",
   "name": "ls-academy"
  },
  "language_info": {
   "codemirror_mode": {
    "name": "ipython",
    "version": 2
   },
   "file_extension": ".py",
   "mimetype": "text/x-python",
   "name": "python",
   "nbconvert_exporter": "python",
   "pygments_lexer": "ipython2",
   "version": "2.7.6"
  }
 },
 "nbformat": 4,
 "nbformat_minor": 5
}
